{
 "cells": [
  {
   "cell_type": "code",
   "execution_count": 1,
   "id": "initial_id",
   "metadata": {
    "ExecuteTime": {
     "end_time": "2023-11-19T16:40:27.037977421Z",
     "start_time": "2023-11-19T16:38:32.998006200Z"
    },
    "collapsed": true
   },
   "outputs": [
    {
     "name": "stderr",
     "output_type": "stream",
     "text": [
      "c:\\Users\\fktrc\\anaconda3\\lib\\site-packages\\fuzzywuzzy\\fuzz.py:11: UserWarning: Using slow pure-python SequenceMatcher. Install python-Levenshtein to remove this warning\n",
      "  warnings.warn('Using slow pure-python SequenceMatcher. Install python-Levenshtein to remove this warning')\n"
     ]
    },
    {
     "name": "stdout",
     "output_type": "stream",
     "text": [
      "Получение результатов первой модели:\n"
     ]
    },
    {
     "name": "stderr",
     "output_type": "stream",
     "text": [
      "100%|██████████| 412/412 [01:28<00:00,  4.63it/s]\n"
     ]
    },
    {
     "name": "stdout",
     "output_type": "stream",
     "text": [
      "Получени результатов второй модели:\n"
     ]
    },
    {
     "name": "stderr",
     "output_type": "stream",
     "text": [
      "100%|██████████| 412/412 [00:24<00:00, 17.07it/s]\n"
     ]
    }
   ],
   "source": [
    "import model1\n",
    "import model2\n",
    "path = input()\n",
    "path = path if path != \"\" else path\n",
    "print('Получение результатов первой модели:')\n",
    "result1 = model1.get_result(path)\n",
    "print('Получени результатов второй модели:')\n",
    "result2 = model2.get_result(path)"
   ]
  },
  {
   "cell_type": "code",
   "execution_count": 7,
   "id": "f991d046c8a669fa",
   "metadata": {
    "ExecuteTime": {
     "end_time": "2023-11-19T18:20:46.403485455Z",
     "start_time": "2023-11-19T18:20:46.389844089Z"
    },
    "collapsed": false
   },
   "outputs": [],
   "source": [
    "with open('result1.json', 'w') as file:\n",
    "    json.dump(result1, file, ensure_ascii=False, indent=4)\n",
    "with open('result2.json', 'w') as file:\n",
    "    json.dump(result2, file, ensure_ascii=False, indent=4)\n",
    "import json\n",
    "import re\n",
    "from tqdm import tqdm\n",
    "\n",
    "with open(path, 'r') as file:\n",
    "    data = json.load(file)\n",
    "clean = data\n",
    "data = [sentence['text'].lower() for sentence in data]\n",
    "data = [re.sub(r'[,\\.\\?\\!\\-]', '', sentence) for sentence in data]\n",
    "clean = [item['text'] for item in clean]"
   ]
  },
  {
   "cell_type": "code",
   "execution_count": 10,
   "id": "198a44f8293b444b",
   "metadata": {
    "ExecuteTime": {
     "end_time": "2023-11-19T18:29:54.259006629Z",
     "start_time": "2023-11-19T18:29:23.577183979Z"
    },
    "collapsed": false
   },
   "outputs": [],
   "source": [
    "best_weights = (0.88, 0.07)\n",
    "threshold = 0.7\n",
    "result_dict = {key : [] for key in clean}\n",
    "for i in range(len(result1)):\n",
    "    final_score = best_weights[0] * result1[i][2] + best_weights[1] * result2[i][2]\n",
    "    if final_score > threshold:\n",
    "        result_dict[clean[result1[i][0]]].append(clean[result1[i][1]])\n",
    "\n",
    "with open('result.json', 'w') as file:\n",
    "    json.dump(result_dict, file, ensure_ascii=False, indent=4)\n"
   ]
  },
  {
   "cell_type": "code",
   "execution_count": null,
   "metadata": {},
   "outputs": [],
   "source": []
  }
 ],
 "metadata": {
  "kernelspec": {
   "display_name": "Python 3",
   "language": "python",
   "name": "python3"
  },
  "language_info": {
   "codemirror_mode": {
    "name": "ipython",
    "version": 3
   },
   "file_extension": ".py",
   "mimetype": "text/x-python",
   "name": "python",
   "nbconvert_exporter": "python",
   "pygments_lexer": "ipython3",
   "version": "3.10.9"
  }
 },
 "nbformat": 4,
 "nbformat_minor": 5
}
