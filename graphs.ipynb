{
 "cells": [
  {
   "cell_type": "code",
   "execution_count": 28,
   "metadata": {},
   "outputs": [
    {
     "name": "stdout",
     "output_type": "stream",
     "text": [
      "Получение результатов первой модели:\n"
     ]
    },
    {
     "name": "stderr",
     "output_type": "stream",
     "text": [
      "100%|██████████| 412/412 [03:07<00:00,  2.20it/s]\n"
     ]
    }
   ],
   "source": [
    "import model1\n",
    "import json\n",
    "import model2\n",
    "path = \"sample.json\"\n",
    "path = path if path != \"\" else path\n",
    "print('Получение результатов первой модели:')\n",
    "result1 = model1.get_result(path)\n",
    "\n"
   ]
  },
  {
   "cell_type": "code",
   "execution_count": 29,
   "metadata": {},
   "outputs": [
    {
     "name": "stdout",
     "output_type": "stream",
     "text": [
      "Получени результатов второй модели:\n"
     ]
    },
    {
     "name": "stderr",
     "output_type": "stream",
     "text": [
      "100%|██████████| 412/412 [00:27<00:00, 15.08it/s]\n"
     ]
    }
   ],
   "source": [
    "print('Получени результатов второй модели:')\n",
    "result2 = model2.get_result(path)"
   ]
  },
  {
   "cell_type": "code",
   "execution_count": 30,
   "metadata": {},
   "outputs": [],
   "source": [
    "with open('result1.json', 'w') as file:\n",
    "    json.dump(result1, file, ensure_ascii=False, indent=4)\n",
    "with open('result2.json', 'w') as file:\n",
    "    json.dump(result2, file, ensure_ascii=False, indent=4)\n",
    "import json\n",
    "import re\n",
    "from tqdm import tqdm\n",
    "\n",
    "with open(path, 'r') as file:\n",
    "    data = json.load(file)\n",
    "clean = data\n",
    "data = [sentence['text'].lower() for sentence in data]\n",
    "data = [re.sub(r'[,\\.\\?\\!\\-]', '', sentence) for sentence in data]\n",
    "clean = [item['text'] for item in clean]\n",
    "\n",
    "best_weights = [0.35, 0.7]\n",
    "threshold = 0.7\n",
    "result_dict = {key : [] for key in data}\n",
    "for i in range(len(result1)):\n",
    "    final_score = best_weights[0] * result1[i][2] + best_weights[1] * result2[i][2]\n",
    "    if final_score > threshold:\n",
    "        result_dict[data[result1[i][0]]].append(data[result1[i][1]])\n",
    "\n",
    "y = [86.21248986212491, 91.56528791565287, ]"
   ]
  },
  {
   "cell_type": "code",
   "execution_count": 55,
   "metadata": {},
   "outputs": [
    {
     "name": "stderr",
     "output_type": "stream",
     "text": [
      "  0%|          | 0/40 [00:00<?, ?it/s]"
     ]
    },
    {
     "name": "stderr",
     "output_type": "stream",
     "text": [
      "100%|██████████| 40/40 [02:01<00:00,  3.03s/it]"
     ]
    },
    {
     "name": "stdout",
     "output_type": "stream",
     "text": [
      "(0.8750000000000001, 0.07500000000000001) 92.7007299270073\n"
     ]
    },
    {
     "name": "stderr",
     "output_type": "stream",
     "text": [
      "\n"
     ]
    }
   ],
   "source": [
    "import numpy as np\n",
    "with open('target.json', 'r') as file:\n",
    "    target = json.load(file)\n",
    "def compare(array1, array2):\n",
    "    max_score = max(len(array1), len(array2))\n",
    "    if max_score == 0:\n",
    "        return 100\n",
    "\n",
    "    score = max_score\n",
    "    for elem in array1:\n",
    "        if elem not in array2:\n",
    "            score -= 1\n",
    "    for elem in array2:\n",
    "        if elem not in array1:\n",
    "            score -= 1\n",
    "\n",
    "    return score / max_score * 100\n",
    "n = 40\n",
    "weight1 = np.arange(1.0 / n, 1.0000001, 1.0 / n)\n",
    "weight2 = np.arange(1.0 / n, 1.0000001, 1.0 / n)\n",
    "best_weights1 = (weight1[0], weight2[0])\n",
    "best_score = 0\n",
    "best_result_dict = {}\n",
    "threshold = 0.7\n",
    "result_dict = {key : [] for key in data}\n",
    "        \n",
    "for w1 in tqdm(weight1):\n",
    "    for w2 in weight2:\n",
    "        result_dict = {key : [] for key in data}\n",
    "        for i in range(len(result1)):\n",
    "            final_score = w1 * result1[i][2] + w2 * result2[i][2]\n",
    "            if final_score > threshold:\n",
    "                result_dict[data[result1[i][0]]].append(data[result1[i][1]])\n",
    "        \n",
    "        score = 0\n",
    "        for key in result_dict.keys():\n",
    "            score += compare(result_dict[key], target[key])\n",
    "        score /= float(len(target))\n",
    "        if score >= best_score:\n",
    "            best_weights = (w1, w2)\n",
    "            best_score = score\n",
    "            best_result_dict = result_dict\n",
    "print(best_weights, best_score)\n"
   ]
  },
  {
   "cell_type": "code",
   "execution_count": 56,
   "metadata": {},
   "outputs": [
    {
     "data": {
      "text/plain": [
       "86.77480400108136"
      ]
     },
     "execution_count": 56,
     "metadata": {},
     "output_type": "execute_result"
    }
   ],
   "source": [
    "best_weights = [0.75, 0.35]\n",
    "result_dict = {key : [] for key in data}\n",
    "for i in range(len(result1)):\n",
    "    final_score = best_weights[0] * result1[i][2] + best_weights[1] * result2[i][2]\n",
    "    if final_score > threshold:\n",
    "        result_dict[data[result1[i][0]]].append(data[result1[i][1]])\n",
    "def get_score(array1, array2):\n",
    "    max_score = max(len(array1), len(array2))\n",
    "    if max_score == 0:\n",
    "        return 100\n",
    "\n",
    "    score = max_score\n",
    "    for elem in array1:\n",
    "        if elem not in array2:\n",
    "            score -= 1\n",
    "    for elem in array2:\n",
    "        if elem not in array1:\n",
    "            score -= 1\n",
    "\n",
    "    return score / max_score * 100\n",
    "score = 0\n",
    "for key in result_dict.keys():\n",
    "    score += get_score(result_dict[key], target[key])\n",
    "score /= float(len(target))\n",
    "score"
   ]
  },
  {
   "cell_type": "code",
   "execution_count": null,
   "metadata": {},
   "outputs": [
    {
     "name": "stderr",
     "output_type": "stream",
     "text": [
      "100%|██████████| 41/41 [00:01<00:00, 23.62it/s]\n",
      "100%|██████████| 41/41 [00:02<00:00, 16.50it/s]\n",
      "100%|██████████| 82/82 [00:08<00:00, 10.19it/s]\n",
      "100%|██████████| 82/82 [00:05<00:00, 15.06it/s]\n",
      "100%|██████████| 123/123 [00:17<00:00,  7.15it/s]\n",
      "100%|██████████| 123/123 [00:08<00:00, 15.03it/s]\n",
      "100%|██████████| 164/164 [00:32<00:00,  4.99it/s]\n",
      "100%|██████████| 164/164 [00:11<00:00, 14.49it/s]\n",
      "100%|██████████| 206/206 [00:49<00:00,  4.19it/s]\n",
      "100%|██████████| 206/206 [00:13<00:00, 15.67it/s]\n",
      "100%|██████████| 247/247 [01:05<00:00,  3.74it/s]\n",
      "100%|██████████| 247/247 [00:15<00:00, 15.57it/s]\n",
      "100%|██████████| 288/288 [01:37<00:00,  2.94it/s]\n",
      "100%|██████████| 288/288 [00:19<00:00, 15.13it/s]\n",
      "100%|██████████| 329/329 [01:59<00:00,  2.75it/s]\n",
      "100%|██████████| 329/329 [00:19<00:00, 16.54it/s]\n",
      "100%|██████████| 370/370 [02:25<00:00,  2.54it/s]\n",
      "100%|██████████| 370/370 [00:21<00:00, 16.88it/s]\n",
      "100%|██████████| 412/412 [03:05<00:00,  2.22it/s]\n",
      "100%|██████████| 412/412 [00:25<00:00, 16.21it/s]\n",
      "100%|██████████| 41/41 [00:01<00:00, 23.80it/s]\n",
      "100%|██████████| 82/82 [00:06<00:00, 12.05it/s]\n",
      "100%|██████████| 123/123 [00:16<00:00,  7.68it/s]\n",
      "100%|██████████| 164/164 [00:28<00:00,  5.69it/s]\n",
      "100%|██████████| 206/206 [00:45<00:00,  4.57it/s]\n",
      "100%|██████████| 247/247 [01:02<00:00,  3.93it/s]\n",
      "100%|██████████| 288/288 [01:36<00:00,  3.00it/s]\n",
      "100%|██████████| 329/329 [02:08<00:00,  2.56it/s]\n",
      "100%|██████████| 370/370 [02:31<00:00,  2.44it/s]\n",
      "100%|██████████| 412/412 [03:06<00:00,  2.21it/s]\n",
      "100%|██████████| 41/41 [00:01<00:00, 24.32it/s]\n",
      "100%|██████████| 82/82 [00:06<00:00, 12.12it/s]\n",
      "100%|██████████| 123/123 [00:15<00:00,  7.69it/s]\n",
      "100%|██████████| 164/164 [00:27<00:00,  5.86it/s]\n",
      "100%|██████████| 206/206 [00:46<00:00,  4.41it/s]\n",
      "100%|██████████| 247/247 [01:05<00:00,  3.75it/s]\n",
      "100%|██████████| 288/288 [01:29<00:00,  3.21it/s]\n",
      "100%|██████████| 329/329 [01:56<00:00,  2.82it/s]\n",
      "100%|██████████| 370/370 [02:23<00:00,  2.57it/s]\n",
      "100%|██████████| 412/412 [03:15<00:00,  2.11it/s]\n"
     ]
    }
   ],
   "source": [
    "import time\n",
    "import json\n",
    "import model1\n",
    "import model2\n",
    "import re\n",
    "import clast\n",
    "from tqdm import tqdm\n",
    "path = \"sample.json\"\n",
    "def ens(perc):\n",
    "    start_time = time.time()\n",
    "    result1 = model1.get_result(path, perc)\n",
    "    result2 = model2.get_result(path, perc)\n",
    "    with open(path, 'r') as file:\n",
    "        data = json.load(file)\n",
    "    clean = data\n",
    "    data = [sentence['text'].lower() for sentence in data]\n",
    "    data = [re.sub(r'[,\\.\\?\\!\\-]', '', sentence) for sentence in data]\n",
    "    clean = [item['text'] for item in clean]\n",
    "\n",
    "    best_weights = [0.8, 0.2]\n",
    "    threshold = 0.7\n",
    "    result_dict = {key : [] for key in data}\n",
    "    for i in range(len(result1)):\n",
    "        final_score = best_weights[0] * result1[i][2] + best_weights[1] * result2[i][2]\n",
    "        if final_score > threshold:\n",
    "            result_dict[data[result1[i][0]]].append(data[result1[i][1]])\n",
    "    return time.time() - start_time\n",
    "def clastik(perc):\n",
    "    start_time = time.time()\n",
    "    with open(path, 'r') as file:\n",
    "        data = json.load(file)\n",
    "    clean = data\n",
    "    data = [sentence['text'].lower() for sentence in data]\n",
    "    data = [re.sub(r'[,\\.\\?\\!\\-]', '', sentence) for sentence in data]\n",
    "    data = data[:int(len(data) * perc / 100)]\n",
    "    clean = [item['text'] for item in clean]\n",
    "    result = clast.dbscan(data)\n",
    "    return time.time() - start_time\n",
    "def modeli1(perc):\n",
    "    start_time = time.time()\n",
    "    result1 = model1.get_result(path, perc)\n",
    "    return time.time() - start_time\n",
    "def modeli2(perc):\n",
    "    start_time = time.time()\n",
    "    result1 = model1.get_result(path, perc)\n",
    "    return time.time() - start_time\n",
    "timeEns, timeCl, time1, time2, timeSx = [], [], [], [], []\n",
    "funki = [ens, clastik, modeli1, modeli2]\n",
    "times = [timeEns, timeCl, time1, time2, timeSx]\n",
    "for fun,timing in zip(funki, times):\n",
    "    for p in range(10, 101, 10):\n",
    "        execution_time = fun(p)\n",
    "        timing.append(execution_time)\n",
    "        \n"
   ]
  },
  {
   "cell_type": "code",
   "execution_count": null,
   "metadata": {},
   "outputs": [],
   "source": [
    "import method5\n",
    "def soundx(p):\n",
    "    start_time = time.time()\n",
    "    result = method5.getResult(path = 'sample.json', percentage=p)\n",
    "    return time.time() - start_time\n",
    "\n",
    "for p in range(10, 101, 10):\n",
    "    execution_time = soundx(p)\n",
    "    timeSx.append(execution_time)"
   ]
  },
  {
   "cell_type": "code",
   "execution_count": 63,
   "metadata": {},
   "outputs": [
    {
     "data": {
      "image/png": "[encoded data removed]",
      "text/plain": [
       "<Figure size 640x480 with 1 Axes>"
      ]
     },
     "metadata": {},
     "output_type": "display_data"
    }
   ],
   "source": [
    "import matplotlib.pyplot as plt\n",
    "\n",
    "labels = ['Ансамбль', 'Кластеризация', 'Модель I', 'Модель II', 'Soundex',]\n",
    "colors = ['red', 'green', 'blue', 'orange', 'purple' ]\n",
    "\n",
    "for i, time_list in enumerate(times):\n",
    "    if labels[i] == \"Soundex\":\n",
    "        plt.plot(time_list, color=colors[i], label=labels[i], linewidth=1)\n",
    "    else: plt.plot(time_list, color=colors[i], label=labels[i])\n",
    "\n",
    "plt.xlabel('Количество предложений в датасете')\n",
    "plt.ylabel('Время(в секундах)')\n",
    "plt.legend()\n",
    "\n",
    "plt.show()\n"
   ]
  },
  {
   "cell_type": "code",
   "execution_count": 31,
   "metadata": {},
   "outputs": [],
   "source": [
    "result5 = method5.getResult()"
   ]
  },
  {
   "cell_type": "code",
   "execution_count": 5,
   "metadata": {},
   "outputs": [
    {
     "name": "stderr",
     "output_type": "stream",
     "text": [
      "100%|██████████| 412/412 [03:17<00:00,  2.09it/s]\n"
     ]
    },
    {
     "data": {
      "text/plain": [
       "89.58637469586375"
      ]
     },
     "execution_count": 5,
     "metadata": {},
     "output_type": "execute_result"
    }
   ],
   "source": [
    "def get_score(array1, array2):\n",
    "    max_score = max(len(array1), len(array2))\n",
    "    if max_score == 0:\n",
    "        return 100\n",
    "\n",
    "    score = max_score\n",
    "    for elem in array1:\n",
    "        if elem not in array2:\n",
    "            score -= 1\n",
    "    for elem in array2:\n",
    "        if elem not in array1:\n",
    "            score -= 1\n",
    "\n",
    "    return score / max_score * 100\n",
    "\n",
    "with open('target.json', 'r') as file:\n",
    "    target = json.load(file)\n",
    "\n",
    "import model1\n",
    "result1 = model1.get_result()\n",
    "threshold = 0.6\n",
    "path = \"sample.json\"\n",
    "with open(path, 'r') as file:\n",
    "    data = json.load(file)\n",
    "clean = data\n",
    "data = [sentence['text'].lower() for sentence in data]\n",
    "data = [re.sub(r'[,\\.\\?\\!\\-]', '', sentence) for sentence in data]\n",
    "clean = [item['text'] for item in clean]\n",
    "result_dict = {key : [] for key in data}\n",
    "for i in range(len(result1)):\n",
    "    if result1[i][2] > threshold:\n",
    "            result_dict[data[result1[i][0]]].append(data[result1[i][1]])\n",
    "score = 0\n",
    "for key in result_dict.keys():\n",
    "    score += get_score(result_dict[key], target[key])\n",
    "score /= float(len(target))\n",
    "with open('result1.json', 'w') as file:\n",
    "    json.dump(result_dict, file, ensure_ascii=False, indent=4)\n",
    "score"
   ]
  },
  {
   "cell_type": "code",
   "execution_count": 4,
   "metadata": {},
   "outputs": [
    {
     "name": "stdout",
     "output_type": "stream",
     "text": [
      "[(1, 14, 0.21541950113378683), (1, 149, 0.28798185941043086), (1, 171, 0.15136054421768708), (1, 233, 0.2040816326530612), (2, 265, 0.7142857142857143), (4, 69, 0.1626984126984127), (4, 171, 0.17857142857142858), (13, 100, 0.7142857142857143), (14, 1, 0.21541950113378683), (14, 171, 0.1626984126984127), (14, 233, 0.21541950113378683), (18, 70, 0.7142857142857143), (18, 113, 0.23968253968253966), (18, 260, 0.23968253968253966), (19, 393, 0.3333333333333333), (22, 33, 0.37142857142857144), (22, 213, 0.37142857142857144), (22, 344, 0.30918367346938774), (23, 139, 0.17857142857142858), (24, 85, 0.163265306122449), (28, 200, 0.30952380952380953), (29, 362, 0.2285714285714286), (33, 22, 0.37142857142857144), (33, 213, 0.37142857142857144), (33, 266, 0.163265306122449), (33, 344, 0.30918367346938774), (34, 253, 0.47619047619047616), (35, 401, 0.28798185941043086), (36, 195, 0.5394557823129251), (37, 352, 0.163265306122449), (39, 209, 0.163265306122449), (40, 144, 0.163265306122449), (43, 407, 0.30952380952380953), (47, 284, 0.21731601731601735), (48, 267, 0.163265306122449), (49, 311, 0.19682539682539685), (51, 109, 0.23968253968253966), (52, 118, 0.28798185941043086), (53, 271, 0.20578231292517005), (64, 379, 0.19682539682539685), (66, 110, 0.163265306122449), (68, 377, 0.19682539682539685), (69, 4, 0.1626984126984127), (69, 171, 0.1626984126984127), (70, 18, 0.7142857142857143), (70, 113, 0.23968253968253966), (70, 260, 0.23968253968253966), (73, 96, 0.163265306122449), (77, 122, 0.163265306122449), (81, 113, 0.15476190476190477), (85, 24, 0.163265306122449), (86, 278, 0.18095238095238098), (86, 292, 0.476984126984127), (87, 249, 0.15873015873015872), (89, 403, 0.20578231292517005), (92, 198, 0.163265306122449), (93, 203, 0.163265306122449), (96, 73, 0.163265306122449), (100, 13, 0.7142857142857143), (102, 254, 0.163265306122449), (103, 137, 0.476984126984127), (109, 51, 0.23968253968253966), (110, 66, 0.163265306122449), (113, 18, 0.23968253968253966), (113, 70, 0.23968253968253966), (113, 81, 0.15476190476190477), (115, 154, 0.23968253968253966), (115, 349, 0.23968253968253966), (115, 405, 0.23968253968253966), (118, 52, 0.28798185941043086), (122, 77, 0.163265306122449), (123, 166, 0.20578231292517005), (127, 242, 0.163265306122449), (128, 315, 0.37142857142857144), (128, 331, 0.163265306122449), (130, 317, 0.163265306122449), (137, 103, 0.476984126984127), (137, 186, 0.23968253968253966), (139, 23, 0.17857142857142858), (141, 356, 0.17857142857142858), (143, 296, 0.23968253968253966), (144, 40, 0.163265306122449), (146, 335, 0.163265306122449), (147, 312, 0.163265306122449), (148, 173, 0.2040816326530612), (149, 1, 0.28798185941043086), (150, 380, 0.28798185941043086), (152, 334, 0.19954648526077096), (154, 115, 0.23968253968253966), (154, 179, 0.476984126984127), (154, 349, 0.23968253968253966), (154, 405, 0.7142857142857143), (155, 189, 0.163265306122449), (157, 264, 0.7142857142857143), (157, 396, 0.23968253968253966), (166, 123, 0.20578231292517005), (171, 1, 0.15136054421768708), (171, 4, 0.17857142857142858), (171, 14, 0.1626984126984127), (171, 69, 0.1626984126984127), (171, 233, 0.17857142857142858), (173, 148, 0.2040816326530612), (176, 296, 0.30952380952380953), (176, 324, 0.30952380952380953), (177, 323, 0.163265306122449), (179, 154, 0.476984126984127), (179, 405, 0.476984126984127), (184, 386, 0.15476190476190477), (186, 137, 0.23968253968253966), (189, 155, 0.163265306122449), (191, 228, 0.23968253968253966), (195, 36, 0.5394557823129251), (198, 92, 0.163265306122449), (200, 28, 0.30952380952380953), (203, 93, 0.163265306122449), (205, 213, 0.163265306122449), (205, 266, 0.37142857142857144), (206, 259, 0.272108843537415), (209, 39, 0.163265306122449), (212, 400, 0.17857142857142858), (213, 22, 0.37142857142857144), (213, 33, 0.37142857142857144), (213, 205, 0.163265306122449), (213, 344, 0.30918367346938774), (215, 320, 0.6857142857142857), (228, 191, 0.23968253968253966), (230, 329, 0.47619047619047616), (231, 248, 0.23968253968253966), (233, 1, 0.2040816326530612), (233, 14, 0.21541950113378683), (233, 171, 0.17857142857142858), (235, 388, 0.37142857142857144), (236, 363, 0.15476190476190477), (238, 250, 0.19954648526077096), (242, 127, 0.163265306122449), (243, 353, 0.163265306122449), (248, 231, 0.23968253968253966), (249, 87, 0.15873015873015872), (250, 238, 0.19954648526077096), (252, 373, 0.23968253968253966), (252, 384, 0.23968253968253966), (253, 34, 0.47619047619047616), (254, 102, 0.163265306122449), (259, 206, 0.272108843537415), (260, 18, 0.23968253968253966), (260, 70, 0.23968253968253966), (264, 157, 0.7142857142857143), (264, 396, 0.23968253968253966), (265, 2, 0.7142857142857143), (266, 33, 0.163265306122449), (266, 205, 0.37142857142857144), (267, 48, 0.163265306122449), (271, 53, 0.20578231292517005), (276, 313, 1.0), (278, 86, 0.18095238095238098), (279, 288, 0.20578231292517005), (284, 47, 0.21731601731601735), (288, 279, 0.20578231292517005), (292, 86, 0.476984126984127), (293, 365, 0.47619047619047616), (296, 143, 0.23968253968253966), (296, 176, 0.30952380952380953), (299, 303, 0.163265306122449), (303, 299, 0.163265306122449), (311, 49, 0.19682539682539685), (312, 147, 0.163265306122449), (313, 276, 1.0), (315, 128, 0.37142857142857144), (317, 130, 0.163265306122449), (320, 215, 0.6857142857142857), (323, 177, 0.163265306122449), (324, 176, 0.30952380952380953), (327, 378, 0.20578231292517005), (329, 230, 0.47619047619047616), (331, 128, 0.163265306122449), (334, 152, 0.19954648526077096), (335, 146, 0.163265306122449), (344, 22, 0.30918367346938774), (344, 33, 0.30918367346938774), (344, 213, 0.30918367346938774), (349, 115, 0.23968253968253966), (349, 154, 0.23968253968253966), (349, 405, 0.23968253968253966), (352, 37, 0.163265306122449), (353, 243, 0.163265306122449), (356, 141, 0.17857142857142858), (362, 29, 0.2285714285714286), (363, 236, 0.15476190476190477), (365, 293, 0.47619047619047616), (373, 252, 0.23968253968253966), (373, 384, 0.23968253968253966), (377, 68, 0.19682539682539685), (378, 327, 0.20578231292517005), (379, 64, 0.19682539682539685), (380, 150, 0.28798185941043086), (384, 252, 0.23968253968253966), (384, 373, 0.23968253968253966), (386, 184, 0.15476190476190477), (387, 404, 0.163265306122449), (388, 235, 0.37142857142857144), (393, 19, 0.3333333333333333), (396, 157, 0.23968253968253966), (396, 264, 0.23968253968253966), (400, 212, 0.17857142857142858), (401, 35, 0.28798185941043086), (403, 89, 0.20578231292517005), (404, 387, 0.163265306122449), (405, 115, 0.23968253968253966), (405, 154, 0.7142857142857143), (405, 179, 0.476984126984127), (405, 349, 0.23968253968253966), (407, 43, 0.30952380952380953)]\n"
     ]
    },
    {
     "data": {
      "text/plain": [
       "53.57432510717182"
      ]
     },
     "execution_count": 4,
     "metadata": {},
     "output_type": "execute_result"
    }
   ],
   "source": [
    "import method5\n",
    "result5 = method5.getResult(\"sample.json\")\n",
    "with open('target.json', 'r') as file:\n",
    "    target = json.load(file)\n",
    "print(result5)\n",
    "\n",
    "threshold = 0.1\n",
    "path = \"sample.json\"\n",
    "with open(path, 'r') as file:\n",
    "    data = json.load(file)\n",
    "clean = data\n",
    "data = [sentence['text'].lower() for sentence in data]\n",
    "data = [re.sub(r'[,\\.\\?\\!\\-]', '', sentence) for sentence in data]\n",
    "clean = [item['text'] for item in clean]\n",
    "result_dict = {key : [] for key in data}\n",
    "for i in range(len(result5)):\n",
    "    if result5[i][2] > threshold:\n",
    "            result_dict[data[result5[i][0]]].append(data[result5[i][1]])\n",
    "score = 0\n",
    "for key in result_dict.keys():\n",
    "    score += get_score(result_dict[key], target[key])\n",
    "score /= float(len(target))\n",
    "with open('result5.json', 'w') as file:\n",
    "    json.dump(result_dict, file, ensure_ascii=False, indent=4)\n",
    "score"
   ]
  },
  {
   "cell_type": "code",
   "execution_count": 1,
   "metadata": {},
   "outputs": [
    {
     "name": "stderr",
     "output_type": "stream",
     "text": [
      "c:\\Users\\fktrc\\anaconda3\\lib\\site-packages\\fuzzywuzzy\\fuzz.py:11: UserWarning: Using slow pure-python SequenceMatcher. Install python-Levenshtein to remove this warning\n",
      "  warnings.warn('Using slow pure-python SequenceMatcher. Install python-Levenshtein to remove this warning')\n"
     ]
    },
    {
     "ename": "FileNotFoundError",
     "evalue": "[Errno 2] No such file or directory: 'CLEAN\\\\bdnames.txt'",
     "output_type": "error",
     "traceback": [
      "\u001b[1;31m---------------------------------------------------------------------------\u001b[0m",
      "\u001b[1;31mFileNotFoundError\u001b[0m                         Traceback (most recent call last)",
      "\u001b[1;32mc:\\Users\\fktrc\\OneDrive\\Документы\\talent-case-2023-Alyans-Ramenki-Shelkovo\\FINAL\\CLEAN\\graphs.ipynb Cell 12\u001b[0m line \u001b[0;36m4\n\u001b[0;32m      <a href='vscode-notebook-cell:/c%3A/Users/fktrc/OneDrive/%D0%94%D0%BE%D0%BA%D1%83%D0%BC%D0%B5%D0%BD%D1%82%D1%8B/talent-case-2023-Alyans-Ramenki-Shelkovo/FINAL/CLEAN/graphs.ipynb#X33sZmlsZQ%3D%3D?line=1'>2</a>\u001b[0m \u001b[39mimport\u001b[39;00m \u001b[39mre\u001b[39;00m\n\u001b[0;32m      <a href='vscode-notebook-cell:/c%3A/Users/fktrc/OneDrive/%D0%94%D0%BE%D0%BA%D1%83%D0%BC%D0%B5%D0%BD%D1%82%D1%8B/talent-case-2023-Alyans-Ramenki-Shelkovo/FINAL/CLEAN/graphs.ipynb#X33sZmlsZQ%3D%3D?line=2'>3</a>\u001b[0m \u001b[39mimport\u001b[39;00m \u001b[39mmodel2\u001b[39;00m\n\u001b[1;32m----> <a href='vscode-notebook-cell:/c%3A/Users/fktrc/OneDrive/%D0%94%D0%BE%D0%BA%D1%83%D0%BC%D0%B5%D0%BD%D1%82%D1%8B/talent-case-2023-Alyans-Ramenki-Shelkovo/FINAL/CLEAN/graphs.ipynb#X33sZmlsZQ%3D%3D?line=3'>4</a>\u001b[0m result2 \u001b[39m=\u001b[39m model2\u001b[39m.\u001b[39;49mget_result(\u001b[39m\"\u001b[39;49m\u001b[39msample.json\u001b[39;49m\u001b[39m\"\u001b[39;49m)\n\u001b[0;32m      <a href='vscode-notebook-cell:/c%3A/Users/fktrc/OneDrive/%D0%94%D0%BE%D0%BA%D1%83%D0%BC%D0%B5%D0%BD%D1%82%D1%8B/talent-case-2023-Alyans-Ramenki-Shelkovo/FINAL/CLEAN/graphs.ipynb#X33sZmlsZQ%3D%3D?line=4'>5</a>\u001b[0m \u001b[39mwith\u001b[39;00m \u001b[39mopen\u001b[39m(\u001b[39m'\u001b[39m\u001b[39mtarget.json\u001b[39m\u001b[39m'\u001b[39m, \u001b[39m'\u001b[39m\u001b[39mr\u001b[39m\u001b[39m'\u001b[39m) \u001b[39mas\u001b[39;00m file:\n\u001b[0;32m      <a href='vscode-notebook-cell:/c%3A/Users/fktrc/OneDrive/%D0%94%D0%BE%D0%BA%D1%83%D0%BC%D0%B5%D0%BD%D1%82%D1%8B/talent-case-2023-Alyans-Ramenki-Shelkovo/FINAL/CLEAN/graphs.ipynb#X33sZmlsZQ%3D%3D?line=5'>6</a>\u001b[0m     target \u001b[39m=\u001b[39m json\u001b[39m.\u001b[39mload(file)\n",
      "File \u001b[1;32mc:\\Users\\fktrc\\OneDrive\\Документы\\talent-case-2023-Alyans-Ramenki-Shelkovo\\FINAL\\CLEAN\\model2.py:209\u001b[0m, in \u001b[0;36mget_result\u001b[1;34m(path)\u001b[0m\n\u001b[0;32m    207\u001b[0m \u001b[39mdef\u001b[39;00m \u001b[39mget_result\u001b[39m(path \u001b[39m=\u001b[39m \u001b[39m\"\u001b[39m\u001b[39msample.json\u001b[39m\u001b[39m\"\u001b[39m):\n\u001b[0;32m    208\u001b[0m     \u001b[39m#датасет без нормализации\u001b[39;00m\n\u001b[1;32m--> 209\u001b[0m     cst \u001b[39m=\u001b[39m Customdataset(path, pipeline\u001b[39m=\u001b[39;49m[tokenize, norm])\n\u001b[0;32m    210\u001b[0m     cst2 \u001b[39m=\u001b[39m Customdataset(path)\n\u001b[0;32m    211\u001b[0m     result \u001b[39m=\u001b[39m []\n",
      "File \u001b[1;32mc:\\Users\\fktrc\\OneDrive\\Документы\\talent-case-2023-Alyans-Ramenki-Shelkovo\\FINAL\\CLEAN\\model2.py:126\u001b[0m, in \u001b[0;36mCustomdataset.__init__\u001b[1;34m(self, path, lang, pipeline)\u001b[0m\n\u001b[0;32m    124\u001b[0m \u001b[39massert\u001b[39;00m(\u001b[39m'\u001b[39m\u001b[39mru\u001b[39m\u001b[39m'\u001b[39m \u001b[39m==\u001b[39m lang)\n\u001b[0;32m    125\u001b[0m \u001b[39mself\u001b[39m\u001b[39m.\u001b[39mnames \u001b[39m=\u001b[39m [\u001b[39m'\u001b[39m\u001b[39mкен\u001b[39m\u001b[39m'\u001b[39m, \u001b[39m'\u001b[39m\u001b[39mтом\u001b[39m\u001b[39m'\u001b[39m, \u001b[39m'\u001b[39m\u001b[39mмэри\u001b[39m\u001b[39m'\u001b[39m]\n\u001b[1;32m--> 126\u001b[0m \u001b[39mwith\u001b[39;00m \u001b[39mopen\u001b[39;49m(path_to_names) \u001b[39mas\u001b[39;00m fl:\n\u001b[0;32m    127\u001b[0m     \u001b[39mself\u001b[39m\u001b[39m.\u001b[39mnames \u001b[39m=\u001b[39m fl\u001b[39m.\u001b[39mread()\u001b[39m.\u001b[39mlower()\u001b[39m.\u001b[39msplit(\u001b[39m'\u001b[39m\u001b[39m\\n\u001b[39;00m\u001b[39m'\u001b[39m) \u001b[39m+\u001b[39m \u001b[39mself\u001b[39m\u001b[39m.\u001b[39mnames\n\u001b[0;32m    128\u001b[0m \u001b[39mself\u001b[39m\u001b[39m.\u001b[39mdata \u001b[39m=\u001b[39m [text[\u001b[39m'\u001b[39m\u001b[39mtext\u001b[39m\u001b[39m'\u001b[39m] \u001b[39mfor\u001b[39;00m text \u001b[39min\u001b[39;00m \u001b[39mself\u001b[39m\u001b[39m.\u001b[39mdataset]\n",
      "\u001b[1;31mFileNotFoundError\u001b[0m: [Errno 2] No such file or directory: 'CLEAN\\\\bdnames.txt'"
     ]
    }
   ],
   "source": [
    "import json\n",
    "import re\n",
    "import model2\n",
    "result2 = model2.get_result(\"sample.json\")\n",
    "with open('target.json', 'r') as file:\n",
    "    target = json.load(file)\n",
    "\n",
    "def get_score(array1, array2):\n",
    "    max_score = max(len(array1), len(array2))\n",
    "    if max_score == 0:\n",
    "        return 100\n",
    "\n",
    "    score = max_score\n",
    "    for elem in array1:\n",
    "        if elem not in array2:\n",
    "            score -= 1\n",
    "    for elem in array2:\n",
    "        if elem not in array1:\n",
    "            score -= 1\n",
    "\n",
    "    return score / max_score * 100\n",
    "\n",
    "threshold = 1\n",
    "path = \"sample.json\"\n",
    "with open(path, 'r') as file:\n",
    "    data = json.load(file)\n",
    "clean = data\n",
    "data = [sentence['text'].lower() for sentence in data]\n",
    "data = [re.sub(r'[,\\.\\?\\!\\-]', '', sentence) for sentence in data]\n",
    "clean = [item['text'] for item in clean]\n",
    "result_dict = {key : [] for key in data}\n",
    "for i in range(len(result2)):\n",
    "    if result2[i][2] > threshold:\n",
    "            result_dict[data[result2[i][0]]].append(data[result2[i][1]])\n",
    "score = 0\n",
    "for key in result_dict.keys():\n",
    "    score += get_score(result_dict[key], target[key])\n",
    "score /= float(len(target))\n",
    "with open('result2.json', 'w') as file:\n",
    "    json.dump(result_dict, file, ensure_ascii=False, indent=4)\n",
    "score"
   ]
  },
  {
   "cell_type": "code",
   "execution_count": 3,
   "metadata": {},
   "outputs": [
    {
     "data": {
      "image/png": "[encoded data removed]",
      "text/plain": [
       "<Figure size 640x480 with 1 Axes>"
      ]
     },
     "metadata": {},
     "output_type": "display_data"
    }
   ],
   "source": [
    "import matplotlib.pyplot as plt\n",
    "labels = ['Ансамбль', 'Ансамбль(ТГ бот)', 'SoundEx', 'Кластеризация', 'Модель I', 'Модель II']\n",
    "y=[92.7007299270073, 78.5620097663893, 36.009732360097324 , 86.21248986212491, 89.09975669099757, 84.30077627157918]\n",
    "x = [207, 207, 7, 7, 180, 190]\n",
    "# Create a scatter plot\n",
    "plt.scatter(x, y, color='blue')\n",
    "\n",
    "# Add labels to each point\n",
    "for i, label in enumerate(labels):\n",
    "    plt.annotate(label, (x[i], y[i]), textcoords=\"offset points\", xytext=(10,10), ha='center')\n",
    "\n",
    "# Set axis labels and title\n",
    "plt.xlabel('Время (в секундах)')\n",
    "plt.ylabel('Скор')\n",
    "plt.title('Вывод')\n",
    "\n",
    "plt.show()"
   ]
  },
  {
   "cell_type": "code",
   "execution_count": null,
   "metadata": {},
   "outputs": [],
   "source": []
  }
 ],
 "metadata": {
  "kernelspec": {
   "display_name": "base",
   "language": "python",
   "name": "python3"
  },
  "language_info": {
   "codemirror_mode": {
    "name": "ipython",
    "version": 3
   },
   "file_extension": ".py",
   "mimetype": "text/x-python",
   "name": "python",
   "nbconvert_exporter": "python",
   "pygments_lexer": "ipython3",
   "version": "3.10.9"
  }
 },
 "nbformat": 4,
 "nbformat_minor": 2
}
